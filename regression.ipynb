{
 "metadata": {
  "language_info": {
   "codemirror_mode": {
    "name": "ipython",
    "version": 3
   },
   "file_extension": ".py",
   "mimetype": "text/x-python",
   "name": "python",
   "nbconvert_exporter": "python",
   "pygments_lexer": "ipython3",
   "version": 3
  },
  "orig_nbformat": 2
 },
 "nbformat": 4,
 "nbformat_minor": 2,
 "cells": [
  {
   "cell_type": "code",
   "execution_count": null,
   "metadata": {},
   "outputs": [],
   "source": [
    "!pip install scipy\n",
    "!pip uninstall sklearn\n",
    "!pip uninstall scikit-learn\n",
    "!pip install sklearn\n"
   ]
  },
  {
   "cell_type": "code",
   "execution_count": 20,
   "metadata": {},
   "outputs": [
    {
     "output_type": "error",
     "ename": "ImportError",
     "evalue": "cannot import name 'r2_Score' from 'sklearn.metrics' (/home/elisa/github/UL-labs/env/lib/python3.9/site-packages/sklearn/metrics/__init__.py)",
     "traceback": [
      "\u001b[0;31m---------------------------------------------------------------------------\u001b[0m",
      "\u001b[0;31mImportError\u001b[0m                               Traceback (most recent call last)",
      "\u001b[0;32m<ipython-input-20-6b019f5af545>\u001b[0m in \u001b[0;36m<module>\u001b[0;34m\u001b[0m\n\u001b[1;32m      3\u001b[0m \u001b[0;32mfrom\u001b[0m \u001b[0msklearn\u001b[0m\u001b[0;34m.\u001b[0m\u001b[0mmodel_selection\u001b[0m \u001b[0;32mimport\u001b[0m \u001b[0mtrain_test_split\u001b[0m\u001b[0;34m\u001b[0m\u001b[0;34m\u001b[0m\u001b[0m\n\u001b[1;32m      4\u001b[0m \u001b[0;32mfrom\u001b[0m \u001b[0msklearn\u001b[0m\u001b[0;34m.\u001b[0m\u001b[0mdatasets\u001b[0m \u001b[0;32mimport\u001b[0m \u001b[0mload_boston\u001b[0m\u001b[0;34m\u001b[0m\u001b[0;34m\u001b[0m\u001b[0m\n\u001b[0;32m----> 5\u001b[0;31m \u001b[0;32mfrom\u001b[0m \u001b[0msklearn\u001b[0m\u001b[0;34m.\u001b[0m\u001b[0mmetrics\u001b[0m \u001b[0;32mimport\u001b[0m \u001b[0mmean_squared_error\u001b[0m\u001b[0;34m,\u001b[0m \u001b[0mr2_Score\u001b[0m\u001b[0;34m\u001b[0m\u001b[0;34m\u001b[0m\u001b[0m\n\u001b[0m\u001b[1;32m      6\u001b[0m \u001b[0;34m\u001b[0m\u001b[0m\n\u001b[1;32m      7\u001b[0m \u001b[0;32mfrom\u001b[0m \u001b[0mscipy\u001b[0m\u001b[0;34m.\u001b[0m\u001b[0mio\u001b[0m \u001b[0;32mimport\u001b[0m \u001b[0marff\u001b[0m\u001b[0;34m\u001b[0m\u001b[0;34m\u001b[0m\u001b[0m\n",
      "\u001b[0;31mImportError\u001b[0m: cannot import name 'r2_Score' from 'sklearn.metrics' (/home/elisa/github/UL-labs/env/lib/python3.9/site-packages/sklearn/metrics/__init__.py)"
     ]
    }
   ],
   "source": [
    "import numpy as np\n",
    "import pandas as pd\n",
    "from sklearn.model_selection import train_test_split\n",
    "from sklearn.datasets import load_boston\n",
    "from sklearn.metrics import mean_squared_error, r2_Score\n",
    "\n",
    "from scipy.io import arff\n",
    "import urllib.request\n",
    "from io import StringIO\n",
    "import pandas as pd\n",
    "import numpy as np\n",
    "\n",
    "from sklearn.preprocessing import OneHotEncoder, MinMaxScaler, StandardScaler\n"
   ]
  },
  {
   "cell_type": "code",
   "execution_count": null,
   "metadata": {},
   "outputs": [],
   "source": [
    "# download dataset\n",
    "url = \"https://archive.ics.uci.edu/ml/machine-learning-databases/00277/ThoraricSurgery.arff\"\n",
    "ftpstream = urllib.request.urlopen(url)\n",
    "data, meta = arff.loadarff(StringIO(ftpstream.read().decode('utf-8')))\n",
    "df = pd.DataFrame(data)\n",
    "\n",
    "# strip vaues according to utf-8 encoding \n",
    "df = df.select_dtypes([np.object])\n",
    "df = df.stack().str.decode('utf-8').unstack()\n",
    "\n",
    "\n",
    "# download dataset\n",
    "url = \"https://archive.ics.uci.edu/ml/machine-learning-databases/00277/ThoraricSurgery.arff\"\n",
    "ftpstream = urllib.request.urlopen(url)\n",
    "data, meta = arff.loadarff(StringIO(ftpstream.read().decode('utf-8')))\n",
    "df = pd.DataFrame(data)\n",
    "\n",
    "# strip vaues according to utf-8 encoding \n",
    "df = df.select_dtypes([np.object])\n",
    "df = df.stack().str.decode('utf-8').unstack()\n",
    "\n",
    "target = df.Risk1Yr\n",
    "\n",
    "labels = np.reshape(target.values,(470,1))\n",
    "\n",
    "feature_ds = np.concatenate([df.iloc[:,:-1], labels], axis=1)\n",
    "\n",
    "ds = pd.DataFrame(feature_ds)\n",
    "\n",
    "ds.columns = ['DGN', 'PRE6', 'PRE7', 'PRE8', 'PRE9', 'PRE10', 'PRE11', 'PRE14', 'PRE17', 'PRE19', 'PRE25', 'PRE30', 'PRE32', 'label']\n",
    "\n",
    "ds['label'].replace('F', 'Survived',inplace=True)\n",
    "ds['label'].replace('T', 'Died',inplace=True)\n",
    "\n",
    "ohe = OneHotEncoder()\n",
    "ds_e = pd.DataFrame(ohe.fit_transform(ds.to_numpy()).toarray())\n",
    "\n",
    "ds_er = ds_e.sample(frac=1)\n",
    "\n",
    "X = ds_er.iloc[:,:-2]\n",
    "y = ds_er.iloc[:,-1]\n",
    "\n",
    "# splitting train/test\n",
    "X_train, X_test, y_train, y_test = train_test_split(X, y, test_size=0.3, shuffle=True)"
   ]
  },
  {
   "cell_type": "code",
   "execution_count": null,
   "metadata": {},
   "outputs": [],
   "source": [
    "# Create linear regression object\n",
    "regr = linear_model.LinearRegression()\n",
    "\n",
    "# Train the model using the training sets\n",
    "regr.fit(X_train, y_train)\n",
    "\n",
    "# Make predictions using the testing set\n",
    "y_pred = regr.predict(X_test)\n",
    "\n",
    "# The coefficients\n",
    "print('Coefficients: \\n', regr.coef_)\n",
    "# The mean squared error\n",
    "print('Mean squared error: %.2f'\n",
    "      % mean_squared_error(y_test, y_pred))\n",
    "# The coefficient of determination: 1 is perfect prediction\n",
    "print('Coefficient of determination: %.2f'\n",
    "      % r2_score(y_test, y_pred))\n",
    "\n",
    "# Plot outputs\n",
    "plt.scatter(X_test, y_test,  color='black')\n",
    "plt.plot(X_test, y_pred, color='blue', linewidth=3)\n",
    "\n",
    "plt.xticks(())\n",
    "plt.yticks(())\n",
    "\n",
    "plt.show()"
   ]
  },
  {
   "cell_type": "code",
   "execution_count": null,
   "metadata": {},
   "outputs": [],
   "source": []
  }
 ]
}